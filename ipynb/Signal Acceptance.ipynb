{
 "cells": [
  {
   "cell_type": "code",
   "execution_count": 1,
   "metadata": {},
   "outputs": [
    {
     "name": "stdout",
     "output_type": "stream",
     "text": [
      "Welcome to JupyROOT 6.12/04\n"
     ]
    }
   ],
   "source": [
    "import ROOT"
   ]
  },
  {
   "cell_type": "code",
   "execution_count": 54,
   "metadata": {},
   "outputs": [],
   "source": [
    "nominal_cuts = [\n",
    "    '(event_type == 0 && prod_type_HM == 0)',\n",
    "    '(event_type == 1 && prod_type_HM == 0)',\n",
    "    '((event_type == 2 || event_type == 3) && prod_type_HM == 0)',\n",
    "    '(prod_type_HM == 1)'\n",
    "]\n",
    "noVBF_cuts = [\n",
    "    '(event_type == 0)',\n",
    "    '(event_type == 1)',\n",
    "    '(event_type == 2)',\n",
    "    '(event_type == 3)'   \n",
    "]\n",
    "\n",
    "def get_yield(file_name, cuts, mass_low=0, mass_hi=1200, weight='weight'):\n",
    "    tree = ROOT.TChain(\"tree_incl_all\", 'tree_incl_all')\n",
    "    if type(file_name) is list:\n",
    "        for f in file_name:\n",
    "            tree.Add(f)\n",
    "    else:\n",
    "        tree.Add(file_name)\n",
    "    \n",
    "    hist = ROOT.TH1F(\"hist\", 'hist', 1, mass_low, mass_hi)\n",
    "    var_name = 'm4l_constrained_HM'\n",
    "    \n",
    "    acc_list = []\n",
    "    for i in range(4):        \n",
    "        tree.Draw(var_name+\">>hist\", \"{}*{}\".format(weight, cuts[i]))\n",
    "        acc_list.append(hist.Integral())\n",
    "        \n",
    "    del hist\n",
    "    return acc_list   \n",
    "\n",
    "    \n",
    "def get_acceptance(file_name):\n",
    "    return get_yield(file_name, cuts=nominal_cuts, weight=\"weight/w_lumi/w_br*9./4\")\n",
    "\n",
    "def get_acceptance_noVBF(file_name):\n",
    "    return get_yield(file_name, cuts=noVBF_cuts, weight=\"weight/w_lumi/w_br*9./4\")"
   ]
  },
  {
   "cell_type": "code",
   "execution_count": 20,
   "metadata": {},
   "outputs": [],
   "source": [
    "file_mc15_200 = \"../checks_mc16/mc15/mc15_13TeV.341274.PowhegPythia8EvtGen_CT10_AZNLOCTEQ6L1_ggH200NW_ZZ4lep.root\"\n",
    "acc300 = get_acceptance(file_mc15_200)"
   ]
  },
  {
   "cell_type": "code",
   "execution_count": 12,
   "metadata": {},
   "outputs": [],
   "source": [
    "file_mc15_700 = '../checks_mc16/mc15/mc15_13TeV.341279.PowhegPythia8EvtGen_CT10_AZNLOCTEQ6L1_ggH700NW_ZZ4lep.root'\n",
    "acc700 = get_acceptance(file_mc15_700)"
   ]
  },
  {
   "cell_type": "code",
   "execution_count": 21,
   "metadata": {
    "collapsed": true
   },
   "outputs": [],
   "source": [
    "file_mc16a_200 = '../checks_mc16/mc16a/mc16_13TeV.341274.PowhegPythia8EvtGen_CT10_AZNLOCTEQ6L1_ggH200NW_ZZ4lep.root'\n",
    "acc300_mc16a = get_acceptance(file_mc16a_200)"
   ]
  },
  {
   "cell_type": "code",
   "execution_count": 14,
   "metadata": {
    "collapsed": true
   },
   "outputs": [],
   "source": [
    "file_mc16a_700 = '../checks_mc16/mc16a/mc16_13TeV.341279.PowhegPythia8EvtGen_CT10_AZNLOCTEQ6L1_ggH700NW_ZZ4lep.root'\n",
    "acc700_mc16a = get_acceptance(file_mc16a_700)"
   ]
  },
  {
   "cell_type": "code",
   "execution_count": 22,
   "metadata": {},
   "outputs": [
    {
     "data": {
      "text/plain": [
       "([0.13726118206977844,\n",
       "  0.09377644956111908,\n",
       "  0.2240043580532074,\n",
       "  0.013379843905568123],\n",
       " [0.15972833335399628,\n",
       "  0.1301003396511078,\n",
       "  0.292737752199173,\n",
       "  0.037809789180755615],\n",
       " [0.139184832572937,\n",
       "  0.09035542607307434,\n",
       "  0.21977193653583527,\n",
       "  0.010452439077198505],\n",
       " [0.1622779220342636,\n",
       "  0.1257736086845398,\n",
       "  0.28713110089302063,\n",
       "  0.03153636306524277])"
      ]
     },
     "execution_count": 22,
     "metadata": {},
     "output_type": "execute_result"
    }
   ],
   "source": [
    "acc300, acc700, acc300_mc16a, acc700_mc16a"
   ]
  },
  {
   "cell_type": "code",
   "execution_count": 37,
   "metadata": {
    "collapsed": true
   },
   "outputs": [],
   "source": [
    "VBF_mc15_200 = \"../checks_mc16/mc15/mc15_13TeV.341293.PowhegPythia8EvtGen_CT10_AZNLOCTEQ6L1_VBFH200NW_ZZ4lep.root\"\n",
    "acc_VBF200_mc15 = get_acceptance(VBF_mc15_200)"
   ]
  },
  {
   "cell_type": "code",
   "execution_count": 38,
   "metadata": {
    "collapsed": true
   },
   "outputs": [],
   "source": [
    "VBF_mc15_700 = '../checks_mc16/mc15/mc15_13TeV.341298.PowhegPythia8EvtGen_CT10_AZNLOCTEQ6L1_VBFH700NW_ZZ4lep.root'\n",
    "acc_VBF700_mc15 = get_acceptance(VBF_mc15_700)"
   ]
  },
  {
   "cell_type": "code",
   "execution_count": 39,
   "metadata": {
    "collapsed": true
   },
   "outputs": [],
   "source": [
    "VBF_mc16_200 = '../checks_mc16/mc16a/mc16_13TeV.341293.PowhegPythia8EvtGen_CT10_AZNLOCTEQ6L1_VBFH200NW_ZZ4lep.root'\n",
    "acc_VBF200_mc16 = get_acceptance(VBF_mc16_200)"
   ]
  },
  {
   "cell_type": "code",
   "execution_count": 40,
   "metadata": {
    "collapsed": true
   },
   "outputs": [],
   "source": [
    "VBF_mc16_700 = '../checks_mc16/mc16a/mc16_13TeV.341298.PowhegPythia8EvtGen_CT10_AZNLOCTEQ6L1_VBFH700NW_ZZ4lep.root'\n",
    "acc_VBF700_mc16 = get_acceptance(VBF_mc16_700)"
   ]
  },
  {
   "cell_type": "code",
   "execution_count": 41,
   "metadata": {},
   "outputs": [
    {
     "data": {
      "text/plain": [
       "([0.0922941043972969,\n",
       "  0.06146511435508728,\n",
       "  0.14919014275074005,\n",
       "  0.19195245206356049],\n",
       " [0.08737339079380035,\n",
       "  0.057293638586997986,\n",
       "  0.13709530234336853,\n",
       "  0.2048267126083374])"
      ]
     },
     "execution_count": 41,
     "metadata": {},
     "output_type": "execute_result"
    }
   ],
   "source": [
    "acc_VBF200_mc15, acc_VBF200_mc16"
   ]
  },
  {
   "cell_type": "code",
   "execution_count": 42,
   "metadata": {},
   "outputs": [
    {
     "data": {
      "text/plain": [
       "([0.09758909791707993,\n",
       "  0.08219372481107712,\n",
       "  0.1782020479440689,\n",
       "  0.2695683538913727],\n",
       " [0.10091128200292587,\n",
       "  0.07923627644777298,\n",
       "  0.1765570044517517,\n",
       "  0.2604707181453705])"
      ]
     },
     "execution_count": 42,
     "metadata": {},
     "output_type": "execute_result"
    }
   ],
   "source": [
    "acc_VBF700_mc15, acc_VBF700_mc16"
   ]
  },
  {
   "cell_type": "code",
   "execution_count": 35,
   "metadata": {
    "collapsed": true
   },
   "outputs": [],
   "source": [
    "acc_VBF200_mc15_noVBF = get_acceptance_noVBF(VBF_mc15_200)\n",
    "acc_VBF200_mc16_noVBF = get_acceptance_noVBF(VBF_mc16_200)"
   ]
  },
  {
   "cell_type": "code",
   "execution_count": 36,
   "metadata": {},
   "outputs": [
    {
     "data": {
      "text/plain": [
       "([0.1494780331850052,\n",
       "  0.09999123960733414,\n",
       "  0.133174329996109,\n",
       "  0.11225815862417221],\n",
       " [0.15114825963974,\n",
       "  0.09747441858053207,\n",
       "  0.12729869782924652,\n",
       "  0.11066748946905136])"
      ]
     },
     "execution_count": 36,
     "metadata": {},
     "output_type": "execute_result"
    }
   ],
   "source": [
    "acc_VBF200_mc15_noVBF, acc_VBF200_mc16_noVBF"
   ]
  },
  {
   "cell_type": "code",
   "execution_count": 43,
   "metadata": {
    "collapsed": true
   },
   "outputs": [],
   "source": [
    "import glob\n",
    "f1_list = glob.glob('../checks_mc16/mc15/*36425*Sherpa*')\n",
    "f2_list = glob.glob('../checks_mc16/mc16a/*36425*Sherpa*')"
   ]
  },
  {
   "cell_type": "code",
   "execution_count": 44,
   "metadata": {},
   "outputs": [
    {
     "data": {
      "text/plain": [
       "list"
      ]
     },
     "execution_count": 44,
     "metadata": {},
     "output_type": "execute_result"
    }
   ],
   "source": [
    "type(f1_list)"
   ]
  },
  {
   "cell_type": "code",
   "execution_count": 49,
   "metadata": {},
   "outputs": [
    {
     "name": "stderr",
     "output_type": "stream",
     "text": [
      "Warning in <TROOT::Append>: Replacing existing TH1: hist (Potential memory leak).\n"
     ]
    }
   ],
   "source": []
  },
  {
   "cell_type": "code",
   "execution_count": 60,
   "metadata": {
    "collapsed": true
   },
   "outputs": [],
   "source": [
    "acc_qqZZ_mc15 = get_yield(f1_list, cuts=nominal_cuts, mass_low=130)\n",
    "acc_qqZZ_mc16 = get_yield(f2_list, cuts=nominal_cuts, mass_low=130)"
   ]
  },
  {
   "cell_type": "code",
   "execution_count": 59,
   "metadata": {},
   "outputs": [
    {
     "data": {
      "text/plain": [
       "([334.7189025878906,\n",
       "  196.6083221435547,\n",
       "  481.00213623046875,\n",
       "  13.415629386901855],\n",
       " [332.5002746582031, 190.4113311767578, 477.0932312011719, 13.14269733428955])"
      ]
     },
     "execution_count": 59,
     "metadata": {},
     "output_type": "execute_result"
    }
   ],
   "source": [
    "acc_qqZZ_mc15, acc_qqZZ_mc16"
   ]
  },
  {
   "cell_type": "code",
   "execution_count": 61,
   "metadata": {},
   "outputs": [
    {
     "data": {
      "text/plain": [
       "([271.921630859375, 172.6236572265625, 434.7366027832031, 11.990213394165039],\n",
       " [273.44378662109375,\n",
       "  165.65264892578125,\n",
       "  431.5530700683594,\n",
       "  11.612853050231934])"
      ]
     },
     "execution_count": 61,
     "metadata": {},
     "output_type": "execute_result"
    }
   ],
   "source": [
    "acc_qqZZ_mc15, acc_qqZZ_mc16"
   ]
  },
  {
   "cell_type": "code",
   "execution_count": null,
   "metadata": {
    "collapsed": true
   },
   "outputs": [],
   "source": []
  }
 ],
 "metadata": {
  "kernelspec": {
   "display_name": "Python 3",
   "language": "python",
   "name": "python3"
  },
  "language_info": {
   "codemirror_mode": {
    "name": "ipython",
    "version": 2
   },
   "file_extension": ".py",
   "mimetype": "text/x-python",
   "name": "python",
   "nbconvert_exporter": "python",
   "pygments_lexer": "ipython2",
   "version": "2.7.13"
  }
 },
 "nbformat": 4,
 "nbformat_minor": 2
}
